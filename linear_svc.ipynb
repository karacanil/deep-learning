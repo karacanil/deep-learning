{
 "cells": [
  {
   "cell_type": "code",
   "execution_count": 125,
   "metadata": {},
   "outputs": [],
   "source": [
    "#Import libraries\n",
    "import numpy as np\n",
    "import matplotlib.pyplot as plt\n",
    "from sklearn import svm\n",
    "from matplotlib import style\n",
    "style.use(\"ggplot\")"
   ]
  },
  {
   "cell_type": "code",
   "execution_count": 126,
   "metadata": {},
   "outputs": [
    {
     "name": "stdout",
     "output_type": "stream",
     "text": [
      "[0.89 0.12 0.33 0.92 0.47 0.32]\n",
      "[0.93 0.22 0.21 0.73 0.79 0.63]\n"
     ]
    }
   ],
   "source": [
    "#Create data points\n",
    "#np.random.seed(2)\n",
    "#x = np.random.uniform(0, 1, 10)\n",
    "#y = np.random.uniform(0, 1, 10)\n",
    "x = np.array([.89, .12, .33, .92, .47, .32])\n",
    "y = np.array([.93, .22, .21, .73, .79, .63])\n",
    "print(x)\n",
    "print(y)"
   ]
  },
  {
   "cell_type": "code",
   "execution_count": 127,
   "metadata": {
    "scrolled": true
   },
   "outputs": [
    {
     "data": {
      "image/png": "[encoded data removed]",
      "text/plain": [
       "<Figure size 432x288 with 1 Axes>"
      ]
     },
     "metadata": {},
     "output_type": "display_data"
    }
   ],
   "source": [
    "#Plot data points\n",
    "plt.scatter(x,y)\n",
    "plt.show()"
   ]
  },
  {
   "cell_type": "code",
   "execution_count": 128,
   "metadata": {},
   "outputs": [
    {
     "name": "stdout",
     "output_type": "stream",
     "text": [
      "[[0.89 0.93]\n",
      " [0.12 0.22]\n",
      " [0.33 0.21]\n",
      " [0.92 0.73]\n",
      " [0.47 0.79]\n",
      " [0.32 0.63]]\n"
     ]
    }
   ],
   "source": [
    "#Map x and y\n",
    "X = np.array(list(zip(x,y)))\n",
    "print(X)"
   ]
  },
  {
   "cell_type": "code",
   "execution_count": 129,
   "metadata": {},
   "outputs": [],
   "source": [
    "#Label data X manually\n",
    "Y = [1, 0, 0, 1, 1,0]"
   ]
  },
  {
   "cell_type": "code",
   "execution_count": 130,
   "metadata": {},
   "outputs": [
    {
     "data": {
      "text/plain": [
       "SVC(kernel='linear')"
      ]
     },
     "execution_count": 130,
     "metadata": {},
     "output_type": "execute_result"
    }
   ],
   "source": [
    "#Apply SVC\n",
    "clf = svm.SVC(kernel='linear', C=1.0)\n",
    "clf.fit(X,Y) #fit the features X to their labels Y"
   ]
  },
  {
   "cell_type": "code",
   "execution_count": 131,
   "metadata": {},
   "outputs": [
    {
     "name": "stdout",
     "output_type": "stream",
     "text": [
      "[0.5507979  0.70814782 0.29090474 0.51082761 0.89294695 0.89629309\n",
      " 0.12558531 0.20724288 0.0514672  0.44080984]\n",
      "[0.02987621 0.45683322 0.64914405 0.27848728 0.6762549  0.59086282\n",
      " 0.02398188 0.55885409 0.25925245 0.4151012 ]\n"
     ]
    }
   ],
   "source": [
    "#Setup data for predictions\n",
    "np.random.seed(3)\n",
    "a = np.random.uniform(0, 1, 10)\n",
    "b = np.random.uniform(0, 1, 10)\n",
    "print(a)\n",
    "print(b)"
   ]
  },
  {
   "cell_type": "code",
   "execution_count": 132,
   "metadata": {},
   "outputs": [
    {
     "name": "stdout",
     "output_type": "stream",
     "text": [
      "[[0.5507979  0.02987621]\n",
      " [0.70814782 0.45683322]\n",
      " [0.29090474 0.64914405]\n",
      " [0.51082761 0.27848728]\n",
      " [0.89294695 0.6762549 ]\n",
      " [0.89629309 0.59086282]\n",
      " [0.12558531 0.02398188]\n",
      " [0.20724288 0.55885409]\n",
      " [0.0514672  0.25925245]\n",
      " [0.44080984 0.4151012 ]]\n"
     ]
    }
   ],
   "source": [
    "#Zip the prediction data\n",
    "A = np.array(list(zip(a,b)))\n",
    "print(A)"
   ]
  },
  {
   "cell_type": "code",
   "execution_count": 133,
   "metadata": {},
   "outputs": [
    {
     "name": "stdout",
     "output_type": "stream",
     "text": [
      "[0 1 0 0 1 1 0 0 0 0]\n"
     ]
    }
   ],
   "source": [
    "#Make prediction on a mock dataset\n",
    "print(clf.predict(A))"
   ]
  },
  {
   "cell_type": "code",
   "execution_count": 136,
   "metadata": {},
   "outputs": [],
   "source": [
    "#Define relevant parameters to graph\n",
    "w = clf.coef_[0]\n",
    "learning_rate = -w[0] / w[1]\n",
    "xx = np.linspace(0, 1)\n",
    "yy = learning_rate * xx - clf.intercept_[0] / w[1]"
   ]
  },
  {
   "cell_type": "code",
   "execution_count": 138,
   "metadata": {},
   "outputs": [
    {
     "data": {
      "image/png": "[encoded data removed]",
      "text/plain": [
       "<Figure size 432x288 with 1 Axes>"
      ]
     },
     "metadata": {},
     "output_type": "display_data"
    }
   ],
   "source": [
    "#Plot the line\n",
    "h0 = plt.plot(xx, yy, 'k-', label='non-weighted div')\n",
    "plt.scatter(X[:, 0], X[:, 1], c=Y)\n",
    "plt.legend()\n",
    "plt.show()"
   ]
  },
  {
   "cell_type": "code",
   "execution_count": null,
   "metadata": {},
   "outputs": [],
   "source": []
  }
 ],
 "metadata": {
  "kernelspec": {
   "display_name": "Python 3",
   "language": "python",
   "name": "python3"
  },
  "language_info": {
   "codemirror_mode": {
    "name": "ipython",
    "version": 3
   },
   "file_extension": ".py",
   "mimetype": "text/x-python",
   "name": "python",
   "nbconvert_exporter": "python",
   "pygments_lexer": "ipython3",
   "version": "3.7.4"
  }
 },
 "nbformat": 4,
 "nbformat_minor": 2
}
